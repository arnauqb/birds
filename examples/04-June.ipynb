{
 "cells": [
  {
   "cell_type": "code",
   "execution_count": 1,
   "id": "2c0f0e82",
   "metadata": {},
   "outputs": [],
   "source": [
    "%load_ext autoreload\n",
    "%autoreload 2"
   ]
  },
  {
   "cell_type": "code",
   "execution_count": 2,
   "id": "05c1a135",
   "metadata": {},
   "outputs": [],
   "source": [
    "import yaml\n",
    "import torch\n",
    "import numpy as np\n",
    "import normflows as nf\n",
    "import matplotlib.pyplot as plt\n",
    "#torch.autograd.set_detect_anomaly(True)\n",
    "\n",
    "from birds.models.june import June\n",
    "from birds.calibrator import Calibrator"
   ]
  },
  {
   "cell_type": "code",
   "execution_count": 3,
   "id": "e66379ba",
   "metadata": {},
   "outputs": [],
   "source": [
    "device = \"cuda:2\"\n",
    "config = yaml.safe_load(open(\"./june_config.yaml\"))\n",
    "config[\"system\"][\"device\"] = device\n",
    "config[\"data_path\"] = \"/cosma7/data/dp004/dc-quer1/gradabm_june_graphs/camden_leisure_1.pkl\"\n",
    "june = June(config, parameters_to_calibrate = (\"beta_household\", \"beta_company\", \"beta_school\"))"
   ]
  },
  {
   "cell_type": "code",
   "execution_count": 4,
   "id": "a66823c4",
   "metadata": {},
   "outputs": [
    {
     "name": "stdout",
     "output_type": "stream",
     "text": [
      "CPU times: user 210 ms, sys: 33.7 ms, total: 244 ms\n",
      "Wall time: 258 ms\n"
     ]
    },
    {
     "data": {
      "text/plain": [
       "[<matplotlib.lines.Line2D at 0x7f7aebc3a470>]"
      ]
     },
     "execution_count": 4,
     "metadata": {},
     "output_type": "execute_result"
    },
    {
     "data": {
      "image/png": "[encoded data removed]",
      "text/plain": [
       "<Figure size 640x480 with 1 Axes>"
      ]
     },
     "metadata": {},
     "output_type": "display_data"
    }
   ],
   "source": [
    "%%time\n",
    "true_parameters = torch.tensor([0.9, 0.3, 0.6], device=device)\n",
    "true_x = june.run(true_parameters)\n",
    "true_data = june.observe(true_x)\n",
    "plt.plot(true_data[0].cpu())"
   ]
  },
  {
   "cell_type": "code",
   "execution_count": 5,
   "id": "995022f2",
   "metadata": {},
   "outputs": [],
   "source": [
    "def make_flow():\n",
    "    base = nf.distributions.base.DiagGaussian(len(true_parameters))\n",
    "    num_layers = 5\n",
    "    latent_size = len(true_parameters)\n",
    "    flows = []\n",
    "    for i in range(num_layers):\n",
    "        param_map = nf.nets.MLP([2, 50, 50, 2], init_zeros=True)\n",
    "        flows.append(nf.flows.AffineCouplingBlock(param_map))\n",
    "        flows.append(nf.flows.Permute(latent_size, mode='swap'))\n",
    "    flow = nf.NormalizingFlow(base, flows)\n",
    "    return flow.to(device)"
   ]
  },
  {
   "cell_type": "code",
   "execution_count": 6,
   "id": "40936a02",
   "metadata": {},
   "outputs": [
    {
     "name": "stderr",
     "output_type": "stream",
     "text": [
      "  1%| | 59/10000 [02:17<6:25:12,  2.32s/it, Forecast=5.06e+9, Reg.=0.000511, total=5.06e+9, b\n"
     ]
    }
   ],
   "source": [
    "torch.manual_seed(0)\n",
    "prior = torch.distributions.MultivariateNormal(torch.tensor([0.5, 0.5, 0.5], device=device), \n",
    "                                               1.0 * torch.eye(len(true_parameters), device=device))\n",
    "estimator = make_flow()\n",
    "optimizer = torch.optim.AdamW(estimator.parameters(), lr=1e-3)\n",
    "calibrator = Calibrator(model = june, \n",
    "                        posterior_estimator = estimator, \n",
    "                        prior=prior, \n",
    "                        data=true_data, \n",
    "                        optimizer=optimizer, \n",
    "                        n_samples_per_epoch=5,\n",
    "                        w=0.001,\n",
    "                        forecast_loss = torch.nn.MSELoss(),\n",
    "                        log_tensorboard=True,\n",
    "                        gradient_estimation_method=\"pathwise\",\n",
    "                        gradient_horizon=1,\n",
    "                        #gradient_clipping_norm=1.0,\n",
    "                       device=device)\n",
    "\n",
    "calibrator.run(n_epochs=10000, max_epochs_without_improvement=50);"
   ]
  },
  {
   "cell_type": "code",
   "execution_count": null,
   "id": "c5708867",
   "metadata": {},
   "outputs": [],
   "source": []
  },
  {
   "cell_type": "code",
   "execution_count": null,
   "id": "b6cf4244",
   "metadata": {},
   "outputs": [],
   "source": []
  },
  {
   "cell_type": "code",
   "execution_count": null,
   "id": "10232d36",
   "metadata": {},
   "outputs": [],
   "source": []
  },
  {
   "cell_type": "code",
   "execution_count": null,
   "id": "c9d0ebcf",
   "metadata": {},
   "outputs": [],
   "source": []
  },
  {
   "cell_type": "code",
   "execution_count": null,
   "id": "472e2119",
   "metadata": {},
   "outputs": [],
   "source": []
  },
  {
   "cell_type": "code",
   "execution_count": null,
   "id": "b8929475",
   "metadata": {},
   "outputs": [],
   "source": []
  }
 ],
 "metadata": {
  "kernelspec": {
   "display_name": "torch2",
   "language": "python",
   "name": "torch2"
  },
  "language_info": {
   "codemirror_mode": {
    "name": "ipython",
    "version": 3
   },
   "file_extension": ".py",
   "mimetype": "text/x-python",
   "name": "python",
   "nbconvert_exporter": "python",
   "pygments_lexer": "ipython3",
   "version": "3.10.9"
  }
 },
 "nbformat": 4,
 "nbformat_minor": 5
}
