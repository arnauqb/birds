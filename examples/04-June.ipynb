{
 "cells": [
  {
   "cell_type": "code",
   "execution_count": 1,
   "id": "a7caeae9-c342-437b-903e-53ca6ae99b3a",
   "metadata": {},
   "outputs": [],
   "source": [
    "%load_ext autoreload\n",
    "%autoreload 2"
   ]
  },
  {
   "cell_type": "markdown",
   "id": "04ea42a8-dab2-4b40-b4ab-f3f68dd7e388",
   "metadata": {},
   "source": [
    "import yaml\n",
    "import torch\n",
    "import numpy as np\n",
    "import normflows as nf\n",
    "import matplotlib.pyplot as plt\n",
    "torch.autograd.set_detect_anomaly(True)\n",
    "\n",
    "from birds.models.june import June\n",
    "from birds.calibrator import Calibrator"
   ]
  },
  {
   "cell_type": "code",
   "execution_count": 3,
   "id": "4ff0d77f-4a70-4dac-b4ff-fb39f7da0d03",
   "metadata": {},
   "outputs": [],
   "source": [
    "config = yaml.safe_load(open(\"./june_config.yaml\"))\n",
    "config[\"data_path\"] = \"/Users/arnull/code/gradabm-june/worlds/small_world.pkl\"\n",
    "june = June(config, parameters_to_calibrate = (\"beta_household\", \"beta_company\", \"beta_school\"))"
   ]
  },
  {
   "cell_type": "code",
   "execution_count": 4,
   "id": "edb2defc-30a3-4638-96a2-7f15fe94e07f",
   "metadata": {},
   "outputs": [
    {
     "name": "stdout",
     "output_type": "stream",
     "text": [
      "CPU times: user 279 ms, sys: 438 ms, total: 717 ms\n",
      "Wall time: 323 ms\n"
     ]
    },
    {
     "data": {
      "text/plain": [
       "[<matplotlib.lines.Line2D at 0x2aa742f20>]"
      ]
     },
     "execution_count": 4,
     "metadata": {},
     "output_type": "execute_result"
    },
    {
     "data": {
      "image/png": "[encoded data removed]",
      "text/plain": [
       "<Figure size 640x480 with 1 Axes>"
      ]
     },
     "metadata": {},
     "output_type": "display_data"
    }
   ],
   "source": [
    "%%time\n",
    "torch.manual_seed(0)\n",
    "true_parameters = torch.tensor([0.9, 0.3, 0.6])\n",
    "true_x = june.run(true_parameters)\n",
    "true_data = june.observe(true_x)\n",
    "plt.plot(true_data[0])"
   ]
  },
  {
   "cell_type": "code",
   "execution_count": 5,
   "id": "131d13fd-73a2-4692-985d-e2ef1d2e2660",
   "metadata": {},
   "outputs": [],
   "source": [
    "def make_flow():\n",
    "    torch.manual_seed(0)\n",
    "    base = nf.distributions.base.DiagGaussian(len(true_parameters))\n",
    "    num_layers = 5\n",
    "    latent_size = len(true_parameters)\n",
    "    flows = []\n",
    "    for i in range(num_layers):\n",
    "        param_map = nf.nets.MLP([2, 50, 50, 2], init_zeros=True)\n",
    "        flows.append(nf.flows.AffineCouplingBlock(param_map))\n",
    "        flows.append(nf.flows.Permute(latent_size, mode='swap'))\n",
    "    flow = nf.NormalizingFlow(base, flows)\n",
    "    return flow"
   ]
  },
  {
   "cell_type": "code",
   "execution_count": 6,
   "id": "2802ef22-d8a7-4c75-ba56-f25e7b14448c",
   "metadata": {},
   "outputs": [
    {
     "name": "stderr",
     "output_type": "stream",
     "text": [
      "  0%|                                                           | 21/10000 [04:33<35:56:03, 12.96s/it, Forecast=3e+7, Reg.=0.000274, total=3e+7, best loss=1.78e+7, epochs since improv.=5]/Users/arnull/code/birds/birds/forecast.py:81: UserWarning: Simulation produced nan -- ignoring\n",
      "  warnings.warn(\"Simulation produced nan -- ignoring\")\n",
      "  0%|                                                           | 21/10000 [04:42<37:21:16, 13.48s/it, Forecast=3e+7, Reg.=0.000274, total=3e+7, best loss=1.78e+7, epochs since improv.=5]\n"
     ]
    },
    {
     "ename": "ZeroDivisionError",
     "evalue": "division by zero",
     "output_type": "error",
     "traceback": [
      "\u001b[0;31m---------------------------------------------------------------------------\u001b[0m",
      "\u001b[0;31mZeroDivisionError\u001b[0m                         Traceback (most recent call last)",
      "Cell \u001b[0;32mIn[6], line 17\u001b[0m\n\u001b[1;32m      4\u001b[0m optimizer \u001b[38;5;241m=\u001b[39m torch\u001b[38;5;241m.\u001b[39moptim\u001b[38;5;241m.\u001b[39mAdamW(estimator\u001b[38;5;241m.\u001b[39mparameters(), lr\u001b[38;5;241m=\u001b[39m\u001b[38;5;241m1e-3\u001b[39m)\n\u001b[1;32m      5\u001b[0m calibrator \u001b[38;5;241m=\u001b[39m Calibrator(model \u001b[38;5;241m=\u001b[39m june, \n\u001b[1;32m      6\u001b[0m                         posterior_estimator \u001b[38;5;241m=\u001b[39m estimator, \n\u001b[1;32m      7\u001b[0m                         prior\u001b[38;5;241m=\u001b[39mprior, \n\u001b[0;32m   (...)\u001b[0m\n\u001b[1;32m     14\u001b[0m                         gradient_estimation_method\u001b[38;5;241m=\u001b[39m\u001b[38;5;124m\"\u001b[39m\u001b[38;5;124mpathwise\u001b[39m\u001b[38;5;124m\"\u001b[39m,\n\u001b[1;32m     15\u001b[0m                         gradient_horizon\u001b[38;5;241m=\u001b[39m\u001b[38;5;241m0\u001b[39m)\n\u001b[0;32m---> 17\u001b[0m \u001b[43mcalibrator\u001b[49m\u001b[38;5;241;43m.\u001b[39;49m\u001b[43mrun\u001b[49m\u001b[43m(\u001b[49m\u001b[43mn_epochs\u001b[49m\u001b[38;5;241;43m=\u001b[39;49m\u001b[38;5;241;43m10000\u001b[39;49m\u001b[43m,\u001b[49m\u001b[43m \u001b[49m\u001b[43mmax_epochs_without_improvement\u001b[49m\u001b[38;5;241;43m=\u001b[39;49m\u001b[38;5;241;43m50\u001b[39;49m\u001b[43m)\u001b[49m;\n",
      "File \u001b[0;32m~/code/birds/birds/calibrator.py:143\u001b[0m, in \u001b[0;36mCalibrator.run\u001b[0;34m(self, n_epochs, max_epochs_without_improvement)\u001b[0m\n\u001b[1;32m    141\u001b[0m \u001b[38;5;28mself\u001b[39m\u001b[38;5;241m.\u001b[39mlosses_hist \u001b[38;5;241m=\u001b[39m defaultdict(\u001b[38;5;28mlist\u001b[39m)\n\u001b[1;32m    142\u001b[0m \u001b[38;5;28;01mfor\u001b[39;00m epoch \u001b[38;5;129;01min\u001b[39;00m iterator:\n\u001b[0;32m--> 143\u001b[0m     loss, forecast_loss, regularisation_loss \u001b[38;5;241m=\u001b[39m \u001b[38;5;28;43mself\u001b[39;49m\u001b[38;5;241;43m.\u001b[39;49m\u001b[43mstep\u001b[49m\u001b[43m(\u001b[49m\u001b[43m)\u001b[49m\n\u001b[1;32m    144\u001b[0m     \u001b[38;5;28;01mif\u001b[39;00m mpi_rank \u001b[38;5;241m==\u001b[39m \u001b[38;5;241m0\u001b[39m:\n\u001b[1;32m    145\u001b[0m         \u001b[38;5;28mself\u001b[39m\u001b[38;5;241m.\u001b[39mlosses_hist[\u001b[38;5;124m\"\u001b[39m\u001b[38;5;124mtotal\u001b[39m\u001b[38;5;124m\"\u001b[39m]\u001b[38;5;241m.\u001b[39mappend(loss\u001b[38;5;241m.\u001b[39mitem())\n",
      "File \u001b[0;32m~/code/birds/birds/calibrator.py:95\u001b[0m, in \u001b[0;36mCalibrator.step\u001b[0;34m(self)\u001b[0m\n\u001b[1;32m     93\u001b[0m     \u001b[38;5;28mself\u001b[39m\u001b[38;5;241m.\u001b[39moptimizer\u001b[38;5;241m.\u001b[39mzero_grad()\n\u001b[1;32m     94\u001b[0m \u001b[38;5;66;03m# compute and differentiate forecast loss\u001b[39;00m\n\u001b[0;32m---> 95\u001b[0m forecast_loss \u001b[38;5;241m=\u001b[39m \u001b[43mcompute_and_differentiate_forecast_loss\u001b[49m\u001b[43m(\u001b[49m\n\u001b[1;32m     96\u001b[0m \u001b[43m    \u001b[49m\u001b[43mloss_fn\u001b[49m\u001b[38;5;241;43m=\u001b[39;49m\u001b[38;5;28;43mself\u001b[39;49m\u001b[38;5;241;43m.\u001b[39;49m\u001b[43mforecast_loss\u001b[49m\u001b[43m,\u001b[49m\n\u001b[1;32m     97\u001b[0m \u001b[43m    \u001b[49m\u001b[43mmodel\u001b[49m\u001b[38;5;241;43m=\u001b[39;49m\u001b[38;5;28;43mself\u001b[39;49m\u001b[38;5;241;43m.\u001b[39;49m\u001b[43mmodel\u001b[49m\u001b[43m,\u001b[49m\n\u001b[1;32m     98\u001b[0m \u001b[43m    \u001b[49m\u001b[43mposterior_estimator\u001b[49m\u001b[38;5;241;43m=\u001b[39;49m\u001b[38;5;28;43mself\u001b[39;49m\u001b[38;5;241;43m.\u001b[39;49m\u001b[43mposterior_estimator\u001b[49m\u001b[43m,\u001b[49m\n\u001b[1;32m     99\u001b[0m \u001b[43m    \u001b[49m\u001b[43mn_samples\u001b[49m\u001b[38;5;241;43m=\u001b[39;49m\u001b[38;5;28;43mself\u001b[39;49m\u001b[38;5;241;43m.\u001b[39;49m\u001b[43mn_samples_per_epoch\u001b[49m\u001b[43m,\u001b[49m\n\u001b[1;32m    100\u001b[0m \u001b[43m    \u001b[49m\u001b[43mobserved_outputs\u001b[49m\u001b[38;5;241;43m=\u001b[39;49m\u001b[38;5;28;43mself\u001b[39;49m\u001b[38;5;241;43m.\u001b[39;49m\u001b[43mdata\u001b[49m\u001b[43m,\u001b[49m\n\u001b[1;32m    101\u001b[0m \u001b[43m    \u001b[49m\u001b[43mdiff_mode\u001b[49m\u001b[38;5;241;43m=\u001b[39;49m\u001b[38;5;28;43mself\u001b[39;49m\u001b[38;5;241;43m.\u001b[39;49m\u001b[43mdiff_mode\u001b[49m\u001b[43m,\u001b[49m\n\u001b[1;32m    102\u001b[0m \u001b[43m    \u001b[49m\u001b[43mgradient_estimation_method\u001b[49m\u001b[38;5;241;43m=\u001b[39;49m\u001b[38;5;28;43mself\u001b[39;49m\u001b[38;5;241;43m.\u001b[39;49m\u001b[43mgradient_estimation_method\u001b[49m\u001b[43m,\u001b[49m\n\u001b[1;32m    103\u001b[0m \u001b[43m    \u001b[49m\u001b[43mjacobian_chunk_size\u001b[49m\u001b[38;5;241;43m=\u001b[39;49m\u001b[38;5;28;43mself\u001b[39;49m\u001b[38;5;241;43m.\u001b[39;49m\u001b[43mjacobian_chunk_size\u001b[49m\u001b[43m,\u001b[49m\n\u001b[1;32m    104\u001b[0m \u001b[43m    \u001b[49m\u001b[43mgradient_horizon\u001b[49m\u001b[38;5;241;43m=\u001b[39;49m\u001b[38;5;28;43mself\u001b[39;49m\u001b[38;5;241;43m.\u001b[39;49m\u001b[43mgradient_horizon\u001b[49m\u001b[43m,\u001b[49m\n\u001b[1;32m    105\u001b[0m \u001b[43m    \u001b[49m\u001b[43mdevice\u001b[49m\u001b[38;5;241;43m=\u001b[39;49m\u001b[38;5;28;43mself\u001b[39;49m\u001b[38;5;241;43m.\u001b[39;49m\u001b[43mdevice\u001b[49m\u001b[43m,\u001b[49m\n\u001b[1;32m    106\u001b[0m \u001b[43m\u001b[49m\u001b[43m)\u001b[49m\n\u001b[1;32m    107\u001b[0m \u001b[38;5;66;03m# compute and differentiate regularisation loss\u001b[39;00m\n\u001b[1;32m    108\u001b[0m \u001b[38;5;28;01mif\u001b[39;00m mpi_rank \u001b[38;5;241m==\u001b[39m \u001b[38;5;241m0\u001b[39m:\n",
      "File \u001b[0;32m~/code/birds/birds/forecast.py:344\u001b[0m, in \u001b[0;36mcompute_and_differentiate_forecast_loss\u001b[0;34m(loss_fn, model, posterior_estimator, n_samples, observed_outputs, diff_mode, gradient_estimation_method, jacobian_chunk_size, gradient_horizon, device)\u001b[0m\n\u001b[1;32m    324\u001b[0m \u001b[38;5;250m\u001b[39m\u001b[38;5;124mr\u001b[39m\u001b[38;5;124;03m\"\"\"Computes and differentiates the forecast loss according to the chosen gradient estimation method\u001b[39;00m\n\u001b[1;32m    325\u001b[0m \u001b[38;5;124;03mand automatic differentiation mechanism.\u001b[39;00m\n\u001b[1;32m    326\u001b[0m \u001b[38;5;124;03m**Arguments:**\u001b[39;00m\n\u001b[0;32m   (...)\u001b[0m\n\u001b[1;32m    337\u001b[0m \u001b[38;5;124;03m- `device`: device to use for the computation\u001b[39;00m\n\u001b[1;32m    338\u001b[0m \u001b[38;5;124;03m\"\"\"\u001b[39;00m\n\u001b[1;32m    339\u001b[0m \u001b[38;5;28;01mif\u001b[39;00m gradient_estimation_method \u001b[38;5;241m==\u001b[39m \u001b[38;5;124m\"\u001b[39m\u001b[38;5;124mpathwise\u001b[39m\u001b[38;5;124m\"\u001b[39m:\n\u001b[1;32m    340\u001b[0m     (\n\u001b[1;32m    341\u001b[0m         forecast_parameters,\n\u001b[1;32m    342\u001b[0m         forecast_loss,\n\u001b[1;32m    343\u001b[0m         forecast_jacobians,\n\u001b[0;32m--> 344\u001b[0m     ) \u001b[38;5;241m=\u001b[39m \u001b[43mcompute_forecast_loss_and_jacobian_pathwise\u001b[49m\u001b[43m(\u001b[49m\n\u001b[1;32m    345\u001b[0m \u001b[43m        \u001b[49m\u001b[43mloss_fn\u001b[49m\u001b[38;5;241;43m=\u001b[39;49m\u001b[43mloss_fn\u001b[49m\u001b[43m,\u001b[49m\n\u001b[1;32m    346\u001b[0m \u001b[43m        \u001b[49m\u001b[43mmodel\u001b[49m\u001b[38;5;241;43m=\u001b[39;49m\u001b[43mmodel\u001b[49m\u001b[43m,\u001b[49m\n\u001b[1;32m    347\u001b[0m \u001b[43m        \u001b[49m\u001b[43mposterior_estimator\u001b[49m\u001b[38;5;241;43m=\u001b[39;49m\u001b[43mposterior_estimator\u001b[49m\u001b[43m,\u001b[49m\n\u001b[1;32m    348\u001b[0m \u001b[43m        \u001b[49m\u001b[43mobserved_outputs\u001b[49m\u001b[38;5;241;43m=\u001b[39;49m\u001b[43mobserved_outputs\u001b[49m\u001b[43m,\u001b[49m\n\u001b[1;32m    349\u001b[0m \u001b[43m        \u001b[49m\u001b[43mn_samples\u001b[49m\u001b[38;5;241;43m=\u001b[39;49m\u001b[43mn_samples\u001b[49m\u001b[43m,\u001b[49m\n\u001b[1;32m    350\u001b[0m \u001b[43m        \u001b[49m\u001b[43mdiff_mode\u001b[49m\u001b[38;5;241;43m=\u001b[39;49m\u001b[43mdiff_mode\u001b[49m\u001b[43m,\u001b[49m\n\u001b[1;32m    351\u001b[0m \u001b[43m        \u001b[49m\u001b[43mdevice\u001b[49m\u001b[38;5;241;43m=\u001b[39;49m\u001b[43mdevice\u001b[49m\u001b[43m,\u001b[49m\n\u001b[1;32m    352\u001b[0m \u001b[43m        \u001b[49m\u001b[43mjacobian_chunk_size\u001b[49m\u001b[38;5;241;43m=\u001b[39;49m\u001b[43mjacobian_chunk_size\u001b[49m\u001b[43m,\u001b[49m\n\u001b[1;32m    353\u001b[0m \u001b[43m        \u001b[49m\u001b[43mgradient_horizon\u001b[49m\u001b[38;5;241;43m=\u001b[39;49m\u001b[43mgradient_horizon\u001b[49m\u001b[43m,\u001b[49m\n\u001b[1;32m    354\u001b[0m \u001b[43m    \u001b[49m\u001b[43m)\u001b[49m\n\u001b[1;32m    355\u001b[0m     \u001b[38;5;28;01mif\u001b[39;00m mpi_rank \u001b[38;5;241m==\u001b[39m \u001b[38;5;241m0\u001b[39m:\n\u001b[1;32m    356\u001b[0m         _differentiate_forecast_loss_pathwise(\n\u001b[1;32m    357\u001b[0m             forecast_parameters, forecast_jacobians\n\u001b[1;32m    358\u001b[0m         )\n",
      "File \u001b[0;32m~/code/birds/birds/forecast.py:225\u001b[0m, in \u001b[0;36mcompute_forecast_loss_and_jacobian_pathwise\u001b[0;34m(loss_fn, model, posterior_estimator, n_samples, observed_outputs, diff_mode, jacobian_chunk_size, gradient_horizon, device)\u001b[0m\n\u001b[1;32m    223\u001b[0m     indices \u001b[38;5;241m=\u001b[39m \u001b[38;5;28mlist\u001b[39m(chain(\u001b[38;5;241m*\u001b[39mindices_per_rank))\n\u001b[1;32m    224\u001b[0m     parameters \u001b[38;5;241m=\u001b[39m params_list[indices]\n\u001b[0;32m--> 225\u001b[0m     loss \u001b[38;5;241m=\u001b[39m \u001b[43mloss\u001b[49m\u001b[43m \u001b[49m\u001b[38;5;241;43m/\u001b[39;49m\u001b[43m \u001b[49m\u001b[38;5;28;43mlen\u001b[39;49m\u001b[43m(\u001b[49m\u001b[43mparameters\u001b[49m\u001b[43m)\u001b[49m\n\u001b[1;32m    226\u001b[0m     \u001b[38;5;28;01mreturn\u001b[39;00m parameters, loss, jacobians\n\u001b[1;32m    227\u001b[0m \u001b[38;5;28;01melse\u001b[39;00m:\n",
      "\u001b[0;31mZeroDivisionError\u001b[0m: division by zero"
     ]
    }
   ],
   "source": [
    "torch.manual_seed(0)\n",
    "prior = torch.distributions.MultivariateNormal(torch.tensor([0.5, 0.5, 0.5]), 1.0 * torch.eye(len(true_parameters)))\n",
    "estimator = make_flow()\n",
    "optimizer = torch.optim.AdamW(estimator.parameters(), lr=1e-3)\n",
    "calibrator = Calibrator(model = june, \n",
    "                        posterior_estimator = estimator, \n",
    "                        prior=prior, \n",
    "                        data=true_data, \n",
    "                        optimizer=optimizer, \n",
    "                        n_samples_per_epoch=5,\n",
    "                        w=0.001,\n",
    "                        forecast_loss = torch.nn.MSELoss(),\n",
    "                        log_tensorboard=True,\n",
    "                        gradient_estimation_method=\"pathwise\",\n",
    "                        gradient_horizon=0)\n",
    "\n",
    "calibrator.run(n_epochs=10000, max_epochs_without_improvement=50);"
   ]
  },
  {
   "cell_type": "code",
   "execution_count": null,
   "id": "ec0d484a-d97b-414e-a2e9-344b86dc603c",
   "metadata": {},
   "outputs": [],
   "source": []
  },
  {
   "cell_type": "code",
   "execution_count": null,
   "id": "b384dec8-107e-4816-afb5-3100eadbb576",
   "metadata": {},
   "outputs": [],
   "source": []
  },
  {
   "cell_type": "code",
   "execution_count": null,
   "id": "15299ba2-fa71-45a8-8d0e-d2c6fa0e4d93",
   "metadata": {},
   "outputs": [],
   "source": []
  },
  {
   "cell_type": "code",
   "execution_count": null,
   "id": "0cb9576a-8196-46d4-a881-f9563bd61739",
   "metadata": {},
   "outputs": [],
   "source": []
  },
  {
   "cell_type": "code",
   "execution_count": null,
   "id": "962c3910-c7e4-4716-b21c-6dc7b641ae8d",
   "metadata": {},
   "outputs": [],
   "source": []
  },
  {
   "cell_type": "code",
   "execution_count": null,
   "id": "cd820209-f471-459d-b6ef-6e16daefeb98",
   "metadata": {},
   "outputs": [],
   "source": []
  }
 ],
 "metadata": {
  "kernelspec": {
   "display_name": "torch2",
   "language": "python",
   "name": "torch2"
  },
  "language_info": {
   "codemirror_mode": {
    "name": "ipython",
    "version": 3
   },
   "file_extension": ".py",
   "mimetype": "text/x-python",
   "name": "python",
   "nbconvert_exporter": "python",
   "pygments_lexer": "ipython3",
   "version": "3.10.9"
  }
 },
 "nbformat": 4,
 "nbformat_minor": 5
}
