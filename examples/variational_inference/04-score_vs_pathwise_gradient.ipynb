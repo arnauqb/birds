{
 "cells": [
  {
   "cell_type": "markdown",
   "id": "09f505f3-6039-4839-8571-c784dc99b743",
   "metadata": {},
   "source": [
    "# Score vs Pathwise Gradient"
   ]
  },
  {
   "cell_type": "code",
   "execution_count": 1,
   "id": "555a5827-8a77-481b-a576-6e9baf5b69d5",
   "metadata": {
    "tags": []
   },
   "outputs": [],
   "source": [
    "from blackbirds.models.sir import SIR\n",
    "from blackbirds.infer import VI\n",
    "from blackbirds.simulate import simulate_and_observe_model\n",
    "\n",
    "import torch\n",
    "import numpy as np\n",
    "import matplotlib.pyplot as plt\n",
    "import pandas as pd\n",
    "import networkx\n",
    "import pygtc\n",
    "import normflows as nf"
   ]
  },
  {
   "cell_type": "code",
   "execution_count": 2,
   "id": "518914d9-4e6b-49e3-b484-dc397d8b27cd",
   "metadata": {
    "tags": []
   },
   "outputs": [],
   "source": [
    "n_agents = 1000\n",
    "graph = networkx.watts_strogatz_graph(n_agents, 10, 0.1)\n",
    "sir = SIR(graph, n_timesteps=100)"
   ]
  },
  {
   "cell_type": "code",
   "execution_count": 3,
   "id": "5c317d32-4a4e-4798-a727-f38cb7f68f2a",
   "metadata": {
    "tags": []
   },
   "outputs": [],
   "source": [
    "true_parameters = torch.tensor([0.05, 0.05, 0.05]).log10()\n",
    "data = sir.observe(sir.run(true_parameters))"
   ]
  },
  {
   "cell_type": "code",
   "execution_count": 4,
   "id": "7ea3bd6e-8655-4b16-bd42-86e6e57ca684",
   "metadata": {
    "tags": []
   },
   "outputs": [],
   "source": [
    "prior = torch.distributions.MultivariateNormal(-2.0 * torch.ones(3), torch.eye(3))"
   ]
  },
  {
   "cell_type": "code",
   "execution_count": 5,
   "id": "7e0fb323-2584-4af7-a5a0-22032f5d98f5",
   "metadata": {
    "tags": []
   },
   "outputs": [],
   "source": [
    "def setup_flow():\n",
    "    K = 4\n",
    "    torch.manual_seed(0)\n",
    "    \n",
    "    latent_size = 3\n",
    "    hidden_units = 64\n",
    "    hidden_layers = 2\n",
    "    \n",
    "    flows = []\n",
    "    for i in range(K):\n",
    "        flows += [nf.flows.AutoregressiveRationalQuadraticSpline(latent_size, hidden_layers, hidden_units)]\n",
    "        flows += [nf.flows.LULinearPermute(latent_size)]\n",
    "    \n",
    "    # Set prior and q0\n",
    "    q0 = nf.distributions.DiagGaussian(3, trainable=False)\n",
    "        \n",
    "    # Construct flow model\n",
    "    flow = nf.NormalizingFlow(q0=q0, flows=flows)\n",
    "    return flow\n",
    "\n",
    "class L2Loss:\n",
    "    def __init__(self, model):\n",
    "        self.model = model\n",
    "        self.loss_fn = torch.nn.MSELoss()\n",
    "    def __call__(self, params, data):\n",
    "        observed_outputs = simulate_and_observe_model(self.model, params, gradient_horizon=0)\n",
    "        return self.loss_fn(observed_outputs[0], data[0])"
   ]
  },
  {
   "cell_type": "code",
   "execution_count": 6,
   "id": "a36ed6b3-236a-4891-a930-614d66249d73",
   "metadata": {
    "tags": []
   },
   "outputs": [],
   "source": [
    "def train_estimator(gradient_estimation_mode, n_samples_per_epoch):\n",
    "    torch.manual_seed(0)\n",
    "    posterior_estimator = setup_flow() \n",
    "    optimizer = torch.optim.Adam(posterior_estimator.parameters(), 1e-3)\n",
    "    loss = L2Loss(sir)\n",
    "    vi = VI(loss = loss, \n",
    "            posterior_estimator=posterior_estimator, \n",
    "            prior=prior, \n",
    "            data=data, \n",
    "            optimizer=optimizer,\n",
    "            w = 10.0, \n",
    "            n_samples_per_epoch=n_samples_per_epoch,\n",
    "            gradient_estimation_method=gradient_estimation_mode,\n",
    "   )\n",
    "    vi.run(250, max_epochs_without_improvement=250)\n",
    "    return vi"
   ]
  },
  {
   "cell_type": "code",
   "execution_count": null,
   "id": "cdcb2c6a-4a71-4532-bbb3-66f7deb35d46",
   "metadata": {
    "tags": []
   },
   "outputs": [
    {
     "name": "stderr",
     "output_type": "stream",
     "text": [
      "100%|████████████████████████████████████████████████████████████████████████████████████████████████████████████████████████████████████████████████████████████████████████████████████████████████████▏| 249/250 [05:50<00:01,  1.40s/it, loss=1.57e+3, reg.=98.8, total=1.67e+3, best loss=491, epochs since improv.=54]"
     ]
    }
   ],
   "source": [
    "%%time\n",
    "vi_pathwise = train_estimator(\"pathwise\", 5)"
   ]
  },
  {
   "cell_type": "code",
   "execution_count": null,
   "id": "bba2b6e0-2f1f-4675-ab96-590449303fc4",
   "metadata": {
    "tags": []
   },
   "outputs": [],
   "source": [
    "%%time\n",
    "vi_score = train_estimator(\"score\", 5)"
   ]
  },
  {
   "cell_type": "code",
   "execution_count": null,
   "id": "64688784-f32c-4bbb-a5b8-80f93f5fdade",
   "metadata": {
    "tags": []
   },
   "outputs": [],
   "source": [
    "f, ax = plt.subplots()\n",
    "ax.plot(vi_pathwise.losses_hist[\"total\"], label = \"pathwise\")\n",
    "ax.plot(vi_score.losses_hist[\"total\"], label = \"score function\")\n",
    "ax.set_yscale(\"log\")\n",
    "ax.set_ylabel(\"Loss\")\n",
    "ax.set_xlabel(\"Epoch\")\n",
    "ax.legend(title=\"Gradient method\")"
   ]
  },
  {
   "cell_type": "code",
   "execution_count": null,
   "id": "cfe8de80-7bf2-457a-b6ed-389810653e32",
   "metadata": {
    "tags": []
   },
   "outputs": [],
   "source": [
    "vi_pathwise.posterior_estimator.load_state_dict(vi_pathwise.best_estimator_state_dict)\n",
    "vi_score.posterior_estimator.load_state_dict(vi_score.best_estimator_state_dict)"
   ]
  },
  {
   "cell_type": "code",
   "execution_count": null,
   "id": "d34d4e48-b269-42e0-934d-1f0bb8c4ecce",
   "metadata": {},
   "outputs": [],
   "source": [
    "samples_pw = vi_pathwise.posterior_estimator.sample(10000)[0].detach().numpy()\n",
    "samples_score = vi_score.posterior_estimator.sample(10000)[0].detach().numpy()\n",
    "\n",
    "pygtc.plotGTC(chains=[samples_pw, samples_score],\n",
    "              figureSize=8, \n",
    "              truths = true_parameters.numpy(), \n",
    "              chainLabels=[\"pathwise\", \"score function\"], \n",
    "              paramNames=[\"inital_fraction\", r\"$\\beta$\", r\"$\\gamma$\"]);"
   ]
  },
  {
   "cell_type": "code",
   "execution_count": null,
   "id": "13d9b6b8-8cf0-4f8c-806e-e3557434665c",
   "metadata": {},
   "outputs": [],
   "source": [
    "# compare the predictions to the synthetic data:\n",
    "\n",
    "f, ax = plt.subplots(1, 2, figsize=(10,4), sharex=True, sharey=True)\n",
    "alpha=0.7\n",
    "\n",
    "for i in range(25):\n",
    "    with torch.no_grad():\n",
    "        sim_sir_pw = sir.run_and_observe(vi_pathwise.posterior_estimator.sample(1)[0][0])\n",
    "        ax[0].plot(sim_sir_pw[0].numpy(), color = \"C0\", alpha=alpha)\n",
    "        ax[0].plot(sim_sir_pw[1].numpy(), color = \"C1\", alpha=alpha)\n",
    "        sim_sir_score = sir.run_and_observe(vi_score.posterior_estimator.sample(1)[0][0])\n",
    "        ax[1].plot(sim_sir_score[0].numpy(), color = \"C0\", alpha=alpha)\n",
    "        ax[1].plot(sim_sir_score[1].numpy(), color = \"C1\", alpha=alpha)\n",
    "    \n",
    "ax[1].plot([], [], color = \"C0\", label = \"predicted infected\")\n",
    "ax[1].plot([], [], color = \"C1\", label = \"predicted recovered\")\n",
    "for i in range(2):\n",
    "    ax[i].plot(data[0], color = \"black\", linewidth=2, label = \"data infected\")\n",
    "    ax[i].plot(data[1], color = \"black\", linewidth=2, label = \"data recovered\", linestyle=\"--\")\n",
    "    ax[i].set_xlabel(\"Time-step\")\n",
    "\n",
    "ax[0].set_title(\"Pathwise gradient estimation\")\n",
    "ax[1].set_title(\"Score function gradient estimation\")\n",
    "\n",
    "ax[1].legend(loc=\"center left\", bbox_to_anchor=(1,0.5))\n",
    "plt.subplots_adjust(wspace=0.05, hspace=0.05)"
   ]
  },
  {
   "cell_type": "code",
   "execution_count": null,
   "id": "bb89259b-7ed4-4a31-b821-b642edc05a0f",
   "metadata": {},
   "outputs": [],
   "source": []
  }
 ],
 "metadata": {
  "kernelspec": {
   "display_name": "torch2",
   "language": "python",
   "name": "torch2"
  },
  "language_info": {
   "codemirror_mode": {
    "name": "ipython",
    "version": 3
   },
   "file_extension": ".py",
   "mimetype": "text/x-python",
   "name": "python",
   "nbconvert_exporter": "python",
   "pygments_lexer": "ipython3",
   "version": "3.10.9"
  }
 },
 "nbformat": 4,
 "nbformat_minor": 5
}
